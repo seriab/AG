{
  "nbformat": 4,
  "nbformat_minor": 0,
  "metadata": {
    "colab": {
      "provenance": []
    },
    "kernelspec": {
      "name": "python3",
      "display_name": "Python 3"
    },
    "language_info": {
      "name": "python"
    }
  },
  "cells": [
    {
      "cell_type": "code",
      "source": [
        "!pip install platypus\n",
        "!pip install platypus-opt"
      ],
      "metadata": {
        "colab": {
          "base_uri": "https://localhost:8080/"
        },
        "id": "IzrLr8tjXlPo",
        "outputId": "e2a92d11-1bd0-4add-a811-6657aad0d22e"
      },
      "execution_count": null,
      "outputs": [
        {
          "output_type": "stream",
          "name": "stdout",
          "text": [
            "Collecting platypus\n",
            "  Downloading Platypus-1.0.tar.gz (9.1 kB)\n",
            "  Preparing metadata (setup.py) ... \u001b[?25l\u001b[?25hdone\n",
            "Collecting ply (from platypus)\n",
            "  Downloading ply-3.11-py2.py3-none-any.whl (49 kB)\n",
            "\u001b[2K     \u001b[90m━━━━━━━━━━━━━━━━━━━━━━━━━━━━━━━━━━━━━━━━\u001b[0m \u001b[32m49.6/49.6 kB\u001b[0m \u001b[31m1.6 MB/s\u001b[0m eta \u001b[36m0:00:00\u001b[0m\n",
            "\u001b[?25hBuilding wheels for collected packages: platypus\n",
            "  Building wheel for platypus (setup.py) ... \u001b[?25l\u001b[?25hdone\n",
            "  Created wheel for platypus: filename=Platypus-1.0-py3-none-any.whl size=12109 sha256=01674eed68c22ba26cccd19d850a3ee53c9489f8e678a4c3ce517dbcda80ae42\n",
            "  Stored in directory: /root/.cache/pip/wheels/c3/07/d6/46060919e1db41744ab1e19db1caeba3a2528fae2df6bce722\n",
            "Successfully built platypus\n",
            "Installing collected packages: ply, platypus\n",
            "Successfully installed platypus-1.0 ply-3.11\n",
            "Collecting platypus-opt\n",
            "  Downloading Platypus_Opt-1.1.0-py3-none-any.whl (76 kB)\n",
            "\u001b[2K     \u001b[90m━━━━━━━━━━━━━━━━━━━━━━━━━━━━━━━━━━━━━━━━\u001b[0m \u001b[32m76.9/76.9 kB\u001b[0m \u001b[31m2.0 MB/s\u001b[0m eta \u001b[36m0:00:00\u001b[0m\n",
            "\u001b[?25hRequirement already satisfied: numpy in /usr/local/lib/python3.10/dist-packages (from platypus-opt) (1.23.5)\n",
            "Installing collected packages: platypus-opt\n",
            "Successfully installed platypus-opt-1.1.0\n"
          ]
        }
      ]
    },
    {
      "cell_type": "code",
      "execution_count": null,
      "metadata": {
        "colab": {
          "base_uri": "https://localhost:8080/"
        },
        "id": "kqmjco0QXeqs",
        "outputId": "743c8ed1-4781-469d-94f7-a4dbf4e4b80a"
      },
      "outputs": [
        {
          "output_type": "stream",
          "name": "stdout",
          "text": [
            "Objetos seleccionados  [[False, True, False, False, True]] Valor total  [12] peso total  [10]\n"
          ]
        }
      ],
      "source": [
        "from platypus import GeneticAlgorithm, Problem, Constraint, Binary, nondominated, unique,NSGAII\n",
        "\n",
        "\n",
        "items = 5                 # Cantidad de item\n",
        "capacity = 10             # Capacidad máxima de la mochila\n",
        "weights = [2, 3, 4, 5, 7] # Pesos de los objetos\n",
        "profits = [1, 2, 5, 6, 10]  # Valores de los objetos\n",
        "\n",
        "def knapsack(x):\n",
        "    selection = x[0]\n",
        "    total_weight = sum([weights[i] if selection[i] else 0 for i in range(items)])\n",
        "    total_profit = sum([profits[i] if selection[i] else 0 for i in range(items)])\n",
        "\n",
        "    if total_weight > total_profit:\n",
        "        return (0.0, - capacity)  # Penalizar soluciones que exceden la capacidad\n",
        "    else:\n",
        "        return total_profit, total_weight\n",
        "\n",
        "problem = Problem(1, 1, 1)\n",
        "problem.types[0] = Binary(items)\n",
        "problem.directions[0] = Problem.MAXIMIZE\n",
        "problem.constraints[0] = Constraint(\"<=\", capacity) # restringir la capacidad\n",
        "problem.function = knapsack    #funcion fitness\n",
        "\n",
        "algorithm = NSGAII(problem)\n",
        "algorithm.run(10000) # cantidad de generaciones\n",
        "\n",
        "for solution in unique(nondominated(algorithm.result)):\n",
        "    print(\"Objetos seleccionados \",solution.variables,\"Valor total \" ,solution.objectives,\"peso total \",solution.constraints)"
      ]
    }
  ]
}