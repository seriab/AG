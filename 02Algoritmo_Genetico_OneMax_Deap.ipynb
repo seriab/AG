{
  "cells": [
    {
      "cell_type": "markdown",
      "metadata": {
        "id": "UCYT4636zDsD"
      },
      "source": [
        "#**Algoritmo Genetico - OneMax con Deap**\n"
      ]
    },
    {
      "cell_type": "markdown",
      "metadata": {
        "id": "OUN2oLu6zbA_"
      },
      "source": [
        "### **Instalar biblioteca Deap e importar librerias**"
      ]
    },
    {
      "cell_type": "code",
      "execution_count": null,
      "metadata": {
        "colab": {
          "base_uri": "https://localhost:8080/"
        },
        "id": "mklm9zSoyWPf",
        "outputId": "41be1792-f45e-4052-b01d-7ce311e15763"
      },
      "outputs": [
        {
          "output_type": "stream",
          "name": "stdout",
          "text": [
            "Requirement already satisfied: deap in /usr/local/lib/python3.10/dist-packages (1.4.1)\n",
            "Requirement already satisfied: numpy in /usr/local/lib/python3.10/dist-packages (from deap) (1.23.5)\n"
          ]
        }
      ],
      "source": [
        "!pip install deap\n",
        "import random\n",
        "import numpy\n",
        "from deap import creator, base, tools, algorithms\n",
        "import matplotlib.pyplot as plt"
      ]
    },
    {
      "cell_type": "markdown",
      "metadata": {
        "id": "67QTRWH-zohu"
      },
      "source": [
        "###**Se define funcion de aptitud que debe maximizarse**"
      ]
    },
    {
      "cell_type": "code",
      "execution_count": null,
      "metadata": {
        "id": "tVPUZlTkzoN4"
      },
      "outputs": [],
      "source": [
        "creator.create(\"FitnessMax\", base.Fitness, weights=(1.0,))\n",
        "creator.create(\"Individual\", list, fitness=creator.FitnessMax)\n",
        "\n",
        "toolbox = base.Toolbox()"
      ]
    },
    {
      "cell_type": "markdown",
      "metadata": {
        "id": "oN-R2iwg2io_"
      },
      "source": [
        "### **Se establece longitud de individuo**"
      ]
    },
    {
      "cell_type": "code",
      "execution_count": null,
      "metadata": {
        "id": "aFVevP-n2iXH"
      },
      "outputs": [],
      "source": [
        "toolbox.register(\"attr_bool\", random.randint, 0, 1)\n",
        "toolbox.register(\"individual\", tools.initRepeat, creator.Individual, toolbox.attr_bool, n=80)  # longitud del individuo\n",
        "toolbox.register(\"population\", tools.initRepeat, list, toolbox.individual)"
      ]
    },
    {
      "cell_type": "markdown",
      "metadata": {
        "id": "LUnTGgvS1mwP"
      },
      "source": [
        "###**Función para evaluar la aptitud o fitness de un individuo**"
      ]
    },
    {
      "cell_type": "code",
      "execution_count": null,
      "metadata": {
        "id": "TNlGuojO1nC0"
      },
      "outputs": [],
      "source": [
        "def evalOneMax(individual):\n",
        "    return sum(individual),"
      ]
    },
    {
      "cell_type": "markdown",
      "metadata": {
        "id": "YXjIwlN_2bSI"
      },
      "source": [
        "### **Se definen operadores**"
      ]
    },
    {
      "cell_type": "code",
      "execution_count": null,
      "metadata": {
        "id": "_82vxoi02a7R"
      },
      "outputs": [],
      "source": [
        "toolbox.register(\"evaluate\", evalOneMax)\n",
        "toolbox.register(\"mate\", tools.cxOnePoint)\n",
        "toolbox.register(\"mutate\", tools.mutFlipBit, indpb=0.01) # indpb probabilidad de mutacion\n",
        "toolbox.register(\"select\", tools.selTournament, tournsize=5) # tamano_torneo\n",
        "\n",
        "population = toolbox.population(n=50) # Cantidad de poblacion\n",
        "\n",
        "NGEN=50    # numero de generaciones"
      ]
    },
    {
      "cell_type": "markdown",
      "metadata": {
        "id": "yJowypL165AO"
      },
      "source": [
        "### **Realizar generaciones**"
      ]
    },
    {
      "cell_type": "code",
      "execution_count": null,
      "metadata": {
        "id": "aUODwGyz64w_"
      },
      "outputs": [],
      "source": [
        "for gen in range(NGEN):\n",
        "    offspring = algorithms.varAnd(population, toolbox, cxpb=0.8, mutpb=0.1) # cxpb probabilidad de cruza\n",
        "    fits = toolbox.map(toolbox.evaluate, offspring)\n",
        "    for fit, ind in zip(fits, offspring):\n",
        "        ind.fitness.values = fit\n",
        "    population = toolbox.select(offspring, k=len(population))\n",
        "top10 = tools.selBest(population, k=10)\n",
        "\n"
      ]
    },
    {
      "cell_type": "markdown",
      "metadata": {
        "id": "vwIVEluR7lI0"
      },
      "source": [
        "###**Resultados**"
      ]
    },
    {
      "cell_type": "code",
      "execution_count": null,
      "metadata": {
        "colab": {
          "base_uri": "https://localhost:8080/"
        },
        "id": "tTe7cu7F7lVT",
        "outputId": "01a84a55-70f6-4712-c71d-44977c4221cf"
      },
      "outputs": [
        {
          "output_type": "stream",
          "name": "stdout",
          "text": [
            "Mejor individuo: [1, 1, 1, 1, 1, 1, 1, 1, 1, 1, 1, 1, 1, 1, 1, 1, 1, 1, 1, 1, 1, 1, 1, 1, 1, 0, 1, 1, 1, 1, 1, 1, 1, 1, 1, 1, 1, 1, 1, 1, 0, 1, 1, 1, 1, 0, 1, 1, 1, 1, 1, 1, 1, 1, 1, 1, 1, 1, 1, 1, 1, 1, 1, 1, 1, 1, 1, 1, 1, 1, 1, 1, 1, 1, 1, 1, 1, 1, 1, 1]\n",
            "Aptitud/Fitness del mejor individuo: 77.0\n"
          ]
        }
      ],
      "source": [
        "best_individual = tools.selBest(population, k=1)[0]\n",
        "best_fitness = best_individual.fitness.values[0]\n",
        "\n",
        "\n",
        "print(\"Mejor individuo:\", best_individual)\n",
        "print(\"Aptitud/Fitness del mejor individuo:\", best_fitness)\n"
      ]
    },
    {
      "cell_type": "code",
      "source": [],
      "metadata": {
        "id": "0LlSslJWEzxV"
      },
      "execution_count": null,
      "outputs": []
    }
  ],
  "metadata": {
    "colab": {
      "provenance": []
    },
    "kernelspec": {
      "display_name": "Python 3",
      "name": "python3"
    },
    "language_info": {
      "name": "python"
    }
  },
  "nbformat": 4,
  "nbformat_minor": 0
}