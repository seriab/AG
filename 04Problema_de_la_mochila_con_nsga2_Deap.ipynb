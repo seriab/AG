{
  "nbformat": 4,
  "nbformat_minor": 0,
  "metadata": {
    "colab": {
      "provenance": []
    },
    "kernelspec": {
      "name": "python3",
      "display_name": "Python 3"
    },
    "language_info": {
      "name": "python"
    }
  },
  "cells": [
    {
      "cell_type": "code",
      "source": [
        "!pip install deap"
      ],
      "metadata": {
        "colab": {
          "base_uri": "https://localhost:8080/"
        },
        "id": "5KLi6YQc3rmt",
        "outputId": "0ad711ee-9608-4209-9da7-301d06587ee1"
      },
      "execution_count": 70,
      "outputs": [
        {
          "output_type": "stream",
          "name": "stdout",
          "text": [
            "Requirement already satisfied: deap in /usr/local/lib/python3.10/dist-packages (1.4.1)\n",
            "Requirement already satisfied: numpy in /usr/local/lib/python3.10/dist-packages (from deap) (1.23.5)\n"
          ]
        }
      ]
    },
    {
      "cell_type": "code",
      "source": [
        "import random\n",
        "from deap import base, creator, tools, algorithms\n",
        "import numpy as np\n",
        "import matplotlib.pyplot as plt\n",
        "import time\n",
        "\n",
        "# Parámetros del problema de la mochila\n",
        "pesos = [2, 3, 4, 5, 7]  # Pesos de los objetos\n",
        "valores = [1, 2, 5, 6, 10]  # Valores de los objetos\n",
        "capacidad_mochila = 10  # Capacidad máxima de la mochila\n",
        "\n",
        "# Crear tipos de individuos y objetos de aptitud\n",
        "creator.create(\"FitnessMulti\", base.Fitness, weights=(1.0, -1.0))\n",
        "creator.create(\"Individual\", list, fitness=creator.FitnessMulti)\n",
        "\n",
        "# Función para inicializar individuos aleatoriamente\n",
        "def crear_individuo():\n",
        "    return [random.randint(0, 1) for _ in range(len(pesos))]\n",
        "\n",
        "# Función de aptitud (fitness)\n",
        "def calcular_fitness(individuo):\n",
        "    peso_total = sum(individuo[i] * pesos[i] for i in range(len(individuo)))\n",
        "    valor_total = sum(individuo[i] * valores[i] for i in range(len(individuo)))\n",
        "\n",
        "    if peso_total > capacidad_mochila:\n",
        "        return (0.0, -peso_total)  # Penalizar soluciones que exceden la capacidad\n",
        "    else:\n",
        "        return (valor_total, peso_total)\n",
        "\n",
        "toolbox = base.Toolbox()\n",
        "toolbox.register(\"individual\", tools.initIterate, creator.Individual, crear_individuo)\n",
        "toolbox.register(\"population\", tools.initRepeat, list, toolbox.individual)\n",
        "\n",
        "toolbox.register(\"evaluate\", calcular_fitness)\n",
        "toolbox.register(\"mate\", tools.cxTwoPoint)\n",
        "toolbox.register(\"mutate\", tools.mutFlipBit, indpb=0.1)\n",
        "toolbox.register(\"select\", tools.selNSGA2)\n",
        "\n",
        "if __name__ == \"__main__\":\n",
        "    random.seed(1)\n",
        "\n",
        "    poblacion = toolbox.population(n=50)\n",
        "\n",
        "    stats = tools.Statistics(key=lambda ind: ind.fitness.values)\n",
        "    stats.register(\"avg\", np.mean, axis=0)\n",
        "    stats.register(\"std\", np.std, axis=0)\n",
        "    stats.register(\"min\", np.min, axis=0)\n",
        "    stats.register(\"max\", np.max, axis=0)\n",
        "\n",
        "    # Ejecutar NSGA-II\n",
        "    inicio = time.time()\n",
        "    algorithms.eaMuPlusLambda(poblacion, toolbox, mu=50, lambda_=100, cxpb=0.7, mutpb=0.2, ngen=20, stats=stats, halloffame=None)\n",
        "    # Registra el tiempo de finalización\n",
        "    fin = time.time()\n",
        "\n",
        "    # Calcula el tiempo de ejecución en segundos\n",
        "    tiempo_ejecucion = fin - inicio\n",
        "\n",
        "    pareto_front = tools.sortNondominated(poblacion, len(poblacion), first_front_only=True)[0]\n",
        "\n",
        "    # Extraer los valores de fitness de las soluciones de Pareto\n",
        "    valores_fitness = [ind.fitness.values for ind in pareto_front]\n",
        "\n",
        "    # Crear listas separadas para valores y pesos\n",
        "    valores_pareto = [v[0] for v in valores_fitness]\n",
        "    pesos_pareto = [-v[1] for v in valores_fitness]\n",
        "\n",
        "\n",
        "    mejor_solucion = max(pareto_front, key=lambda x: x.fitness.values)\n",
        "    mejor_valor, mejor_peso = mejor_solucion.fitness.values\n",
        "\n",
        "    print(\"Mejor solución encontrada:\")\n",
        "    print(\"Objetos seleccionados:\", mejor_solucion)\n",
        "    print(\"Valor total:\", mejor_valor)\n",
        "    print(\"Peso total:\", mejor_peso)\n",
        "    print(\"Tiempo de ejecución:\", tiempo_ejecucion, \"segundos\")\n"
      ],
      "metadata": {
        "colab": {
          "base_uri": "https://localhost:8080/"
        },
        "id": "d8ZtaLTDGLAW",
        "outputId": "370fbb41-5651-437d-b3d8-428036af7ac2"
      },
      "execution_count": 71,
      "outputs": [
        {
          "output_type": "stream",
          "name": "stdout",
          "text": [
            "gen\tnevals\tavg          \tstd                      \tmin        \tmax      \n",
            "0  \t50    \t[ 3.1  -4.34]\t[ 3.9        10.55009005]\t[  0. -21.]\t[12. 10.]\n",
            "1  \t90    \t[6.42 2.76]  \t[3.84754467 9.59283066]  \t[  0. -21.]\t[12. 10.]\n",
            "2  \t91    \t[7.42 3.36]  \t[3.85273929 9.21902381]  \t[  0. -21.]\t[12. 10.]\n",
            "3  \t84    \t[7.6  1.36]  \t[ 5.23832034 12.76990211]\t[  0. -21.]\t[12. 10.]\n",
            "4  \t92    \t[10.    6.64]\t[3.91918359 8.40180933]  \t[  0. -21.]\t[12. 10.]\n",
            "5  \t87    \t[11.    8.74]\t[2.78567766 4.60352039]  \t[  0. -21.]\t[12. 10.]\n",
            "6  \t89    \t[11.24  8.94]\t[2.47030363 4.527295  ]  \t[  0. -21.]\t[12. 10.]\n",
            "7  \t94    \t[10.74  8.52]\t[2.97865742 4.67007495]  \t[  0. -21.]\t[12. 10.]\n",
            "8  \t85    \t[10.74  8.52]\t[2.97865742 4.67007495]  \t[  0. -21.]\t[12. 10.]\n",
            "9  \t95    \t[10.52  7.94]\t[3.3301051  6.23028089]  \t[  0. -21.]\t[12. 10.]\n",
            "10 \t87    \t[10.28  7.74]\t[3.57793236 6.27633651]  \t[  0. -21.]\t[12. 10.]\n",
            "11 \t88    \t[10.26  7.72]\t[3.57105027 6.27069374]  \t[  0. -21.]\t[12. 10.]\n",
            "12 \t91    \t[10.64  8.46]\t[3.17338936 4.71257891]  \t[  0. -21.]\t[12. 10.]\n",
            "13 \t93    \t[10.04  7.56]\t[3.78924795 6.31240049]  \t[  0. -21.]\t[12. 10.]\n",
            "14 \t86    \t[10.16  7.66]\t[3.75425092 6.31065765]  \t[  0. -21.]\t[12. 10.]\n",
            "15 \t91    \t[10.26  7.72]\t[3.57105027 6.27069374]  \t[  0. -21.]\t[12. 10.]\n",
            "16 \t92    \t[9.56 6.32]  \t[4.24339487 8.40818649]  \t[  0. -21.]\t[12. 10.]\n",
            "17 \t91    \t[10.48  8.32]\t[3.31807173 4.7725884 ]  \t[  0. -21.]\t[12. 10.]\n",
            "18 \t94    \t[10.04  7.56]\t[3.78924795 6.31240049]  \t[  0. -21.]\t[12. 10.]\n",
            "19 \t82    \t[9.74 7.78]  \t[3.96892933 4.9690643 ]  \t[  0. -21.]\t[12. 10.]\n",
            "20 \t91    \t[10.4   8.28]\t[3.46987031 4.80849249]  \t[  0. -21.]\t[12. 10.]\n",
            "Mejor solución encontrada:\n",
            "Objetos seleccionados: [0, 1, 0, 0, 1]\n",
            "Valor total: 12.0\n",
            "Peso total: 10.0\n",
            "Tiempo de ejecución: 0.0775306224822998 segundos\n"
          ]
        }
      ]
    }
  ]
}