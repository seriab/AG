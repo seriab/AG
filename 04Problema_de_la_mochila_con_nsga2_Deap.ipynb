{
  "nbformat": 4,
  "nbformat_minor": 0,
  "metadata": {
    "colab": {
      "provenance": []
    },
    "kernelspec": {
      "name": "python3",
      "display_name": "Python 3"
    },
    "language_info": {
      "name": "python"
    }
  },
  "cells": [
    {
      "cell_type": "code",
      "source": [
        "!pip install deap"
      ],
      "metadata": {
        "colab": {
          "base_uri": "https://localhost:8080/"
        },
        "id": "5KLi6YQc3rmt",
        "outputId": "63bfe6ac-60f7-4510-be46-342929c346cb"
      },
      "execution_count": null,
      "outputs": [
        {
          "output_type": "stream",
          "name": "stdout",
          "text": [
            "Collecting deap\n",
            "  Downloading deap-1.4.1-cp310-cp310-manylinux_2_5_x86_64.manylinux1_x86_64.manylinux_2_17_x86_64.manylinux2014_x86_64.whl (135 kB)\n",
            "\u001b[2K     \u001b[90m━━━━━━━━━━━━━━━━━━━━━━━━━━━━━━━━━━━━━━━\u001b[0m \u001b[32m135.4/135.4 kB\u001b[0m \u001b[31m2.2 MB/s\u001b[0m eta \u001b[36m0:00:00\u001b[0m\n",
            "\u001b[?25hRequirement already satisfied: numpy in /usr/local/lib/python3.10/dist-packages (from deap) (1.23.5)\n",
            "Installing collected packages: deap\n",
            "Successfully installed deap-1.4.1\n"
          ]
        }
      ]
    },
    {
      "cell_type": "code",
      "source": [
        "import random\n",
        "from deap import base, creator, tools, algorithms\n",
        "import matplotlib.pyplot as plt\n",
        "\n",
        "# Parámetros del problema de la mochila\n",
        "pesos = [2, 3, 4, 5, 7]  # Pesos de los objetos\n",
        "valores = [1, 2, 5, 6, 10]  # Valores de los objetos\n",
        "capacidad_mochila = 10  # Capacidad máxima de la mochila\n",
        "\n",
        "# Crear tipos de individuos y objetos de aptitud\n",
        "creator.create(\"FitnessMulti\", base.Fitness, weights=(1.0, -1.0))\n",
        "creator.create(\"Individual\", list, fitness=creator.FitnessMulti)\n",
        "\n",
        "# Función para inicializar individuos aleatoriamente\n",
        "def crear_individuo():\n",
        "    return [random.randint(0, 1) for _ in range(len(pesos))]\n",
        "\n",
        "# Función de aptitud (fitness)\n",
        "def calcular_fitness(individuo):\n",
        "    peso_total = sum(individuo[i] * pesos[i] for i in range(len(individuo)))\n",
        "    valor_total = sum(individuo[i] * valores[i] for i in range(len(individuo)))\n",
        "\n",
        "    if peso_total > capacidad_mochila:\n",
        "        return (0.0, -peso_total)  # Penalizar soluciones que exceden la capacidad\n",
        "    else:\n",
        "        return (valor_total, -peso_total)\n",
        "\n",
        "toolbox = base.Toolbox()\n",
        "toolbox.register(\"individual\", tools.initIterate, creator.Individual, crear_individuo)\n",
        "toolbox.register(\"population\", tools.initRepeat, list, toolbox.individual)\n",
        "\n",
        "toolbox.register(\"evaluate\", calcular_fitness)\n",
        "toolbox.register(\"mate\", tools.cxTwoPoint)\n",
        "toolbox.register(\"mutate\", tools.mutFlipBit, indpb=0.1)\n",
        "toolbox.register(\"select\", tools.selNSGA2)\n",
        "\n",
        "if __name__ == \"__main__\":\n",
        "    random.seed(42)\n",
        "\n",
        "    poblacion = toolbox.population(n=50)\n",
        "\n",
        "    # Ejecutar NSGA-II\n",
        "    algorithms.eaMuPlusLambda(poblacion, toolbox, mu=50, lambda_=100, cxpb=0.7, mutpb=0.2, ngen=20, stats=None, halloffame=None)\n",
        "\n",
        "    pareto_front = tools.sortNondominated(poblacion, len(poblacion), first_front_only=True)[0]\n",
        "\n",
        "    # Extraer los valores de fitness de las soluciones de Pareto\n",
        "    valores_fitness = [ind.fitness.values for ind in pareto_front]\n",
        "\n",
        "    # Crear listas separadas para valores y pesos\n",
        "    valores_pareto = [v[0] for v in valores_fitness]\n",
        "    pesos_pareto = [-v[1] for v in valores_fitness]\n",
        "\n",
        "\n",
        "    mejor_solucion = max(pareto_front, key=lambda x: x.fitness.values)\n",
        "    mejor_valor, mejor_peso = mejor_solucion.fitness.values\n",
        "\n",
        "    print(\"Mejor solución encontrada:\")\n",
        "    print(\"Objetos seleccionados:\", mejor_solucion)\n",
        "    print(\"Valor total:\", mejor_valor)\n",
        "    print(\"Peso total:\", -mejor_peso)\n"
      ],
      "metadata": {
        "colab": {
          "base_uri": "https://localhost:8080/"
        },
        "id": "d8ZtaLTDGLAW",
        "outputId": "0858e82c-a7a4-432b-f01c-67320d3830f9"
      },
      "execution_count": null,
      "outputs": [
        {
          "output_type": "stream",
          "name": "stdout",
          "text": [
            "gen\tnevals\n",
            "0  \t50    \n",
            "1  \t83    \n",
            "2  \t86    \n",
            "3  \t94    \n",
            "4  \t89    \n",
            "5  \t87    \n",
            "6  \t94    \n",
            "7  \t83    \n",
            "8  \t90    \n",
            "9  \t91    \n",
            "10 \t91    \n",
            "11 \t91    \n",
            "12 \t88    \n",
            "13 \t94    \n",
            "14 \t87    \n",
            "15 \t85    \n",
            "16 \t88    \n",
            "17 \t88    \n",
            "18 \t92    \n",
            "19 \t91    \n",
            "20 \t83    \n",
            "Mejor solución encontrada:\n",
            "Objetos seleccionados: [0, 1, 0, 0, 1]\n",
            "Valor total: 12.0\n",
            "Peso total: 10.0\n"
          ]
        }
      ]
    }
  ]
}