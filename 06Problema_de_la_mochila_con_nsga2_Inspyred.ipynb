{
  "cells": [
    {
      "cell_type": "markdown",
      "id": "856fbf8e",
      "metadata": {
        "id": "856fbf8e"
      },
      "source": [
        "# inspyred"
      ]
    },
    {
      "cell_type": "code",
      "execution_count": null,
      "id": "9c5e0b57",
      "metadata": {
        "id": "9c5e0b57",
        "outputId": "205b8a85-d0b5-433e-d4d0-b7619c7ad6c1"
      },
      "outputs": [
        {
          "name": "stdout",
          "output_type": "stream",
          "text": [
            "Best Solution: [0, 1, 0, 0, 1]: 12\n"
          ]
        }
      ],
      "source": [
        "from random import Random\n",
        "from time import time\n",
        "import inspyred\n",
        "\n",
        "\n",
        "def main(prng=None, display=False):\n",
        "    if prng is None:\n",
        "        prng = Random()\n",
        "        prng.seed(time())\n",
        "\n",
        "    items = [(2,1), (3,2), (4,5), (5,6), (7,10)]\n",
        "\n",
        "#pesos = [2, 3, 4, 5, 7]  # Pesos de los objetos\n",
        "#valores = [1, 2, 5, 6, 10]  # Valores de los objetos\n",
        "#capacidad_mochila = 10  # Capacidad máxima de la mochila\n",
        "\n",
        "\n",
        "    problem = inspyred.benchmarks.Knapsack(10, items, duplicates=True)\n",
        "    ea = inspyred.ec.emo.NSGA2(prng)\n",
        "    ea.selector = inspyred.ec.selectors.tournament_selection\n",
        "    ea.variator = [inspyred.ec.variators.uniform_crossover,\n",
        "                   inspyred.ec.variators.gaussian_mutation]\n",
        "    ea.replacer = inspyred.ec.replacers.generational_replacement\n",
        "    #ea.terminator = inspyred.ec.terminators.evaluation_termination\n",
        "    final_pop = ea.evolve(generator=problem.generator,\n",
        "                          evaluator=problem.evaluator,\n",
        "                          bounder=problem.bounder,\n",
        "                          maximize=problem.maximize,\n",
        "                          #pop_size=100,\n",
        "                          max_evaluations=2500,\n",
        "                          #tournament_size=5,\n",
        "                          #num_selected=2\n",
        "                          max_generations=80)\n",
        "\n",
        "    if display:\n",
        "        best = max(ea.population)\n",
        "        print('Best Solution: {0}: {1}'.format(str(best.candidate),\n",
        "                                               best.fitness))\n",
        "    return ea\n",
        "\n",
        "if __name__ == '__main__':\n",
        "    main(display=True)"
      ]
    }
  ],
  "metadata": {
    "kernelspec": {
      "display_name": "Python 3 (ipykernel)",
      "language": "python",
      "name": "python3"
    },
    "language_info": {
      "codemirror_mode": {
        "name": "ipython",
        "version": 3
      },
      "file_extension": ".py",
      "mimetype": "text/x-python",
      "name": "python",
      "nbconvert_exporter": "python",
      "pygments_lexer": "ipython3",
      "version": "3.8.16"
    },
    "colab": {
      "provenance": []
    }
  },
  "nbformat": 4,
  "nbformat_minor": 5
}